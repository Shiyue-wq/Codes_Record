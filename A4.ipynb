{
 "cells": [
  {
   "cell_type": "code",
   "id": "initial_id",
   "metadata": {
    "collapsed": true,
    "ExecuteTime": {
     "end_time": "2024-10-13T07:44:02.193039Z",
     "start_time": "2024-10-13T07:44:01.300951Z"
    }
   },
   "source": "!pip install scipy",
   "outputs": [
    {
     "name": "stdout",
     "output_type": "stream",
     "text": [
      "Requirement already satisfied: scipy in /Users/duilzhang/Documents/python/PANDAS/lib/python3.10/site-packages (1.13.0)\r\n",
      "Requirement already satisfied: numpy<2.3,>=1.22.4 in /Users/duilzhang/Documents/python/PANDAS/lib/python3.10/site-packages (from scipy) (1.26.3)\r\n",
      "\u001B[33mWARNING: You are using pip version 21.3.1; however, version 24.2 is available.\r\n",
      "You should consider upgrading via the '/Users/duilzhang/Documents/python/PANDAS/bin/python -m pip install --upgrade pip' command.\u001B[0m\r\n"
     ]
    }
   ],
   "execution_count": 1
  },
  {
   "metadata": {
    "ExecuteTime": {
     "end_time": "2024-10-13T08:15:00.882281Z",
     "start_time": "2024-10-13T08:15:00.848781Z"
    }
   },
   "cell_type": "code",
   "source": [
    "from scipy.optimize import linprog\n",
    "\n",
    "c = [-100000, -40000, -18000] \n",
    "\n",
    "A_ub = [[2000, 600, 300],  \n",
    "        [0, 1, 0],  \n",
    "        [-0.9, 0.1, 0.1],\n",
    "        [-0.5, -0.5, 0.5]]  \n",
    "\n",
    "b_ub = [18200, 10, 0, 0]\n",
    "\n",
    "res = linprog(c, A_ub=A_ub, b_ub=b_ub, method='simplex')\n",
    "\n",
    "# Print the result\n",
    "print(\"Optimal Solution:\", res.x)\n",
    "print(\"Maximum Value of Z:\", -res.fun)\n"
   ],
   "id": "fdf5aeb408fe4dfe",
   "outputs": [
    {
     "name": "stdout",
     "output_type": "stream",
     "text": [
      "Optimal Solution: [ 4. 10. 14.]\n",
      "Maximum Value of Z: 1052000.0\n"
     ]
    },
    {
     "name": "stderr",
     "output_type": "stream",
     "text": [
      "/var/folders/1b/tc32r64x08b2nbvmk86y1xyh0000gn/T/ipykernel_34514/1138251204.py:12: DeprecationWarning: `method='simplex'` is deprecated and will be removed in SciPy 1.11.0. Please use one of the HiGHS solvers (e.g. `method='highs'`) in new code.\n",
      "  res = linprog(c, A_ub=A_ub, b_ub=b_ub, method='simplex')\n"
     ]
    }
   ],
   "execution_count": 5
  },
  {
   "metadata": {},
   "cell_type": "code",
   "outputs": [],
   "execution_count": null,
   "source": "",
   "id": "7a95cb19951a3409"
  }
 ],
 "metadata": {
  "kernelspec": {
   "display_name": "Python 3",
   "language": "python",
   "name": "python3"
  },
  "language_info": {
   "codemirror_mode": {
    "name": "ipython",
    "version": 2
   },
   "file_extension": ".py",
   "mimetype": "text/x-python",
   "name": "python",
   "nbconvert_exporter": "python",
   "pygments_lexer": "ipython2",
   "version": "2.7.6"
  }
 },
 "nbformat": 4,
 "nbformat_minor": 5
}
